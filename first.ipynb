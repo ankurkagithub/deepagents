{
 "cells": [
  {
   "cell_type": "code",
   "execution_count": 1,
   "id": "df22019a-f192-4a2a-8431-be47e83e7414",
   "metadata": {
    "execution": {
     "iopub.execute_input": "2025-10-28T18:03:25.704667Z",
     "iopub.status.busy": "2025-10-28T18:03:25.704356Z",
     "iopub.status.idle": "2025-10-28T18:03:25.708795Z",
     "shell.execute_reply": "2025-10-28T18:03:25.707976Z",
     "shell.execute_reply.started": "2025-10-28T18:03:25.704643Z"
    }
   },
   "outputs": [
    {
     "name": "stdout",
     "output_type": "stream",
     "text": [
      "Hello\n"
     ]
    }
   ],
   "source": [
    "print(\"Hello\")"
   ]
  },
  {
   "cell_type": "code",
   "execution_count": 13,
   "id": "5f1c0c63-818f-484c-b30b-00ee84ba9707",
   "metadata": {
    "execution": {
     "iopub.execute_input": "2025-10-29T04:50:17.899007Z",
     "iopub.status.busy": "2025-10-29T04:50:17.898696Z",
     "iopub.status.idle": "2025-10-29T04:50:17.903135Z",
     "shell.execute_reply": "2025-10-29T04:50:17.902506Z",
     "shell.execute_reply.started": "2025-10-29T04:50:17.898985Z"
    }
   },
   "outputs": [
    {
     "data": {
      "text/plain": [
       "['This is first line. ', 'This is second line. ', 'This is 3rd line.']"
      ]
     },
     "execution_count": 13,
     "metadata": {},
     "output_type": "execute_result"
    }
   ],
   "source": [
    "text = \"\"\"This is first line. \n",
    "This is second line. \n",
    "This is 3rd line.\"\"\"\n",
    "lines = [line for line in text.strip().splitlines() if line.strip()]\n",
    "lines"
   ]
  },
  {
   "cell_type": "code",
   "execution_count": null,
   "id": "60a1bcfc-3cf2-4699-ae45-9d660b560f4b",
   "metadata": {},
   "outputs": [],
   "source": []
  }
 ],
 "metadata": {
  "kernelspec": {
   "display_name": "Python 3 (ipykernel)",
   "language": "python",
   "name": "python3"
  },
  "language_info": {
   "codemirror_mode": {
    "name": "ipython",
    "version": 3
   },
   "file_extension": ".py",
   "mimetype": "text/x-python",
   "name": "python",
   "nbconvert_exporter": "python",
   "pygments_lexer": "ipython3",
   "version": "3.12.9"
  }
 },
 "nbformat": 4,
 "nbformat_minor": 5
}
